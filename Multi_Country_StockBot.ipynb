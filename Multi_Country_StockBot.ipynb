{
 "cells": [
  {
   "cell_type": "code",
   "execution_count": null,
   "id": "6e54e98e-6f65-402d-bc2c-f9d4d68fcd2b",
   "metadata": {},
   "outputs": [],
   "source": [
    "from datetime import datetime, timedelta\n",
    "import os\n",
    "import streamlit as st\n",
    "import pandas as pd\n",
    "import yfinance as yf\n",
    "import matplotlib.pyplot as plt\n",
    "from fpdf import FPDF"
   ]
  },
  {
   "cell_type": "code",
   "execution_count": null,
   "id": "8d8fd447-9d61-493a-b4fa-b68c3f4f0b66",
   "metadata": {},
   "outputs": [],
   "source": [
    "# LLM + Tools\n",
    "from langchain_google_genai import ChatGoogleGenerativeAI\n",
    "from langchain.agents import initialize_agent, AgentType\n",
    "from langchain.tools import Tool\n",
    "from langchain_community.utilities import SerpAPIWrapper"
   ]
  },
  {
   "cell_type": "code",
   "execution_count": null,
   "id": "127a657b-7bdd-40c1-9b89-faee3fc32115",
   "metadata": {},
   "outputs": [],
   "source": [
    "# API Keys\n",
    "os.environ[\"GOOGLE_API_KEY\"] = os.getenv(\"GOOGLE_API_KEY\")\n",
    "os.environ[\"SERPAPI_API_KEY\"] = os.getenv(\"SERPAPI_API_KEY\")"
   ]
  },
  {
   "cell_type": "code",
   "execution_count": null,
   "id": "5a319e5e-c878-43d6-ae59-05d10ac3acfa",
   "metadata": {},
   "outputs": [],
   "source": [
    "# Initialize LLM and Search Tool\n",
    "gemini_llm = ChatGoogleGenerativeAI(model=\"gemini-pro\", temperature=0.7)\n",
    "search = SerpAPIWrapper()\n",
    "search_tool = Tool(\n",
    "    name=\"Google Search\",\n",
    "    func=search.run,\n",
    "    description=\"Search live stock news, comparisons, and prices.\"\n",
    ")\n",
    "agent = initialize_agent(\n",
    "    tools=[search_tool],\n",
    "    llm=gemini_llm,\n",
    "    agent=AgentType.ZERO_SHOT_REACT_DESCRIPTION,\n",
    "    verbose=False\n",
    ")"
   ]
  },
  {
   "cell_type": "code",
   "execution_count": null,
   "id": "e6d8f426-ff48-4c71-b381-fc47eaff45ab",
   "metadata": {},
   "outputs": [],
   "source": [
    "# Streamlit UI Setup\n",
    "st.set_page_config(page_title=\"AI Stock Bot\", layout=\"centered\")\n",
    "st.title(\"🌍 Multi-Country AI Stock Assistant\")"
   ]
  },
  {
   "cell_type": "code",
   "execution_count": null,
   "id": "59d2fc62-6d6b-4d4f-b3fb-55cced377f1a",
   "metadata": {},
   "outputs": [],
   "source": [
    "# Country Market Selector\n",
    "suffix_map = {\n",
    "    \"India\": \".NS\",\n",
    "    \"USA\": \"\",\n",
    "    \"Germany\": \".DE\",\n",
    "    \"UK\": \".L\",\n",
    "    \"France\": \".PA\",\n",
    "    \"Hong Kong\": \".HK\"\n",
    "}\n",
    "currency_map = {\n",
    "    \"India\": \"₹\",\n",
    "    \"USA\": \"$\",\n",
    "    \"Germany\": \"€\",\n",
    "    \"UK\": \"£\",\n",
    "    \"France\": \"€\",\n",
    "    \"Hong Kong\": \"HK$\"\n",
    "}\n",
    "ticker_hint = {\n",
    "    \"India\": \"e.g., INFY.NS\",\n",
    "    \"USA\": \"e.g., AAPL\",\n",
    "    \"Germany\": \"e.g., BMW.DE\",\n",
    "    \"UK\": \"e.g., SHEL.L\",\n",
    "    \"France\": \"e.g., AIR.PA\",\n",
    "    \"Hong Kong\": \"e.g., 0700.HK\"\n",
    "}\n",
    "\n",
    "country = st.selectbox(\"🌐 Select Market\", list(suffix_map.keys()))\n",
    "suffix = suffix_map[country]\n",
    "currency = currency_map[country]\n",
    "\n",
    "query_type = st.selectbox(\"📌 Choose an Action\", [\n",
    "    \"Fetch Stock Price\",\n",
    "    \"Compare Multiple Stocks\",\n",
    "    \"Get Stock Market News\",\n",
    "    \"Visualize Stock Chart\",\n",
    "    \"Set Price Alert\",\n",
    "    \"Export Stock Data\",\n",
    "    \"Get Earnings & Financial Ratios\"\n",
    "])\n",
    "\n",
    "def full_ticker(ticker):\n",
    "    return ticker if ticker.endswith(suffix) else ticker + suffix"
   ]
  },
  {
   "cell_type": "code",
   "execution_count": null,
   "id": "32e2a13b-dba1-424d-a707-1239b0240196",
   "metadata": {},
   "outputs": [],
   "source": [
    "# Country Market Selector\n",
    "suffix_map = {\n",
    "    \"India\": \".NS\",\n",
    "    \"USA\": \"\",\n",
    "    \"Germany\": \".DE\",\n",
    "    \"UK\": \".L\",\n",
    "    \"France\": \".PA\",\n",
    "    \"Hong Kong\": \".HK\"\n",
    "}\n",
    "currency_map = {\n",
    "    \"India\": \"₹\",\n",
    "    \"USA\": \"$\",\n",
    "    \"Germany\": \"€\",\n",
    "    \"UK\": \"£\",\n",
    "    \"France\": \"€\",\n",
    "    \"Hong Kong\": \"HK$\"\n",
    "}\n",
    "ticker_hint = {\n",
    "    \"India\": \"e.g., INFY.NS\",\n",
    "    \"USA\": \"e.g., AAPL\",\n",
    "    \"Germany\": \"e.g., BMW.DE\",\n",
    "    \"UK\": \"e.g., SHEL.L\",\n",
    "    \"France\": \"e.g., AIR.PA\",\n",
    "    \"Hong Kong\": \"e.g., 0700.HK\"\n",
    "}"
   ]
  },
  {
   "cell_type": "code",
   "execution_count": null,
   "id": "5232d44a-8072-4b47-aba5-7a45e5bb0436",
   "metadata": {},
   "outputs": [],
   "source": [
    "# Fetch Price\n",
    "if query_type == \"Fetch Stock Price\":\n",
    "    stock = st.text_input(\"Enter Stock Ticker\", placeholder=ticker_hint[country])\n",
    "    if stock and st.button(\"Get Price\"):\n",
    "        data = yf.Ticker(full_ticker(stock)).history(period=\"1d\")\n",
    "        if not data.empty:\n",
    "            price = round(data['Close'].iloc[-1], 2)\n",
    "            st.success(f\"📊 {stock.upper()} Current Price: {currency}{price}\")\n",
    "        else:\n",
    "            st.error(\"Could not fetch price.\")"
   ]
  },
  {
   "cell_type": "code",
   "execution_count": null,
   "id": "0d9e28f5-97ff-4cf8-953f-9cfe6fad715c",
   "metadata": {},
   "outputs": [],
   "source": [
    "# Compare Stocks\n",
    "elif query_type == \"Compare Multiple Stocks\":\n",
    "    tickers = st.text_input(\"Comma-separated Tickers\", placeholder=ticker_hint[country])\n",
    "    if tickers and st.button(\"Compare\"):\n",
    "        stocks = [full_ticker(s.strip()) for s in tickers.split(\",\")]\n",
    "        prices = {}\n",
    "        for s in stocks:\n",
    "            d = yf.Ticker(s).history(period=\"1d\")\n",
    "            prices[s] = round(d['Close'].iloc[-1], 2) if not d.empty else \"N/A\"\n",
    "        st.dataframe(pd.DataFrame(prices.items(), columns=[\"Stock\", f\"Price ({currency})\"]))"
   ]
  },
  {
   "cell_type": "code",
   "execution_count": null,
   "id": "2f719656-50b4-486e-84da-5d0c64c0aa96",
   "metadata": {},
   "outputs": [],
   "source": [
    "# Stock Market News\n",
    "elif query_type == \"Get Stock Market News\":\n",
    "    company = st.text_input(\"Enter Company Name (e.g., Tesla, Infosys)\")\n",
    "    if company and st.button(\"Summarize News\"):\n",
    "        prompt = f\"Summarize recent stock news and performance for {company}\"\n",
    "        summary = agent.run(prompt)\n",
    "        st.info(summary)"
   ]
  },
  {
   "cell_type": "code",
   "execution_count": null,
   "id": "37e2858b-129a-4c15-b4e5-810a82144012",
   "metadata": {},
   "outputs": [],
   "source": [
    "# Visualize Chart\n",
    "elif query_type == \"Visualize Stock Chart\":\n",
    "    stock = st.text_input(\"Enter Ticker\", placeholder=ticker_hint[country])\n",
    "    start_date = st.date_input(\"Start Date\", datetime.today() - timedelta(days=30))\n",
    "    end_date = st.date_input(\"End Date\", datetime.today())\n",
    "    if stock and st.button(\"Show Chart\"):\n",
    "        data = yf.download(full_ticker(stock), start=start_date, end=end_date)\n",
    "        if not data.empty:\n",
    "            fig, ax = plt.subplots(figsize=(10, 5))\n",
    "            ax.plot(data.index, data[\"Close\"], marker='o', linestyle='-')\n",
    "            ax.set_title(f\"{stock.upper()} – Closing Prices\")\n",
    "            ax.set_xlabel(\"Date\")\n",
    "            ax.set_ylabel(f\"Price ({currency})\")\n",
    "            ax.grid(True)\n",
    "            st.pyplot(fig)\n",
    "        else:\n",
    "            st.warning(\"Couldn't fetch historical data.\")"
   ]
  },
  {
   "cell_type": "code",
   "execution_count": null,
   "id": "7edcdc6c-583c-4237-8ec2-a7c24c18691c",
   "metadata": {},
   "outputs": [],
   "source": [
    "# Price Alert\n",
    "elif query_type == \"Set Price Alert\":\n",
    "    stock = st.text_input(\"Ticker\", placeholder=ticker_hint[country])\n",
    "    alert = st.number_input(\"Alert when price is below:\", min_value=0.0)\n",
    "    if stock and st.button(\"Check Now\"):\n",
    "        d = yf.Ticker(full_ticker(stock)).history(period=\"1d\")\n",
    "        if not d.empty:\n",
    "            current = round(d['Close'].iloc[-1], 2)\n",
    "            if current <= alert:\n",
    "                st.warning(f\"🚨 Alert! {stock.upper()} is at {currency}{current} — BELOW your alert!\")\n",
    "            else:\n",
    "                st.info(f\"✅ {stock.upper()} is at {currency}{current}. No alert triggered.\")\n",
    "        else:\n",
    "            st.error(\"Could not retrieve data.\")"
   ]
  },
  {
   "cell_type": "code",
   "execution_count": null,
   "id": "22fa8c07-489f-45e8-9b99-41524dbd6382",
   "metadata": {},
   "outputs": [],
   "source": [
    "# Export Data\n",
    "elif query_type == \"Export Stock Data\":\n",
    "    symbol = st.text_input(\"Enter Ticker\", placeholder=ticker_hint[country])\n",
    "    period = st.selectbox(\"Select Period\", [\"1d\", \"5d\", \"1mo\", \"3mo\", \"6mo\", \"1y\"])\n",
    "    file_type = st.radio(\"Choose Format\", [\"CSV\", \"PDF\"])\n",
    "    if symbol and st.button(\"Export\"):\n",
    "        hist = yf.Ticker(full_ticker(symbol)).history(period=period)\n",
    "        if hist.empty:\n",
    "            st.error(\"No data available.\")\n",
    "        else:\n",
    "            filename = f\"{symbol}_{period}.{file_type.lower()}\"\n",
    "            if file_type == \"CSV\":\n",
    "                hist.to_csv(filename)\n",
    "            else:\n",
    "                pdf = FPDF()\n",
    "                pdf.add_page()\n",
    "                pdf.set_font(\"Arial\", size=12)\n",
    "                for _, row in hist.reset_index().iterrows():\n",
    "                    pdf.cell(200, 10, txt=f\"{row['Date']} - {currency}{round(row['Close'],2)}\", ln=True)\n",
    "                pdf.output(filename)\n",
    "            with open(filename, \"rb\") as f:\n",
    "                st.download_button(\"📥 Download File\", f, file_name=filename)"
   ]
  },
  {
   "cell_type": "code",
   "execution_count": null,
   "id": "b0e5db6b-8b79-40f9-a802-b72ec7a5c3f8",
   "metadata": {},
   "outputs": [],
   "source": [
    "# Earnings & Ratios\n",
    "elif query_type == \"Get Earnings & Financial Ratios\":\n",
    "    stock = st.text_input(\"Enter Ticker\", placeholder=ticker_hint[country])\n",
    "    if stock and st.button(\"Fetch Financials\"):\n",
    "        tkr = yf.Ticker(full_ticker(stock))\n",
    "        info = tkr.info\n",
    "        keys = [\"forwardPE\", \"trailingPE\", \"pegRatio\", \"returnOnEquity\", \"returnOnAssets\", \"debtToEquity\"]\n",
    "        data = {k: info.get(k, \"N/A\") for k in keys}\n",
    "        st.subheader(\"📊 Key Financial Ratios\")\n",
    "        st.json(data)\n",
    "        try:\n",
    "            st.subheader(\"📅 Earnings Calendar\")\n",
    "            st.json(tkr.calendar.to_dict())\n",
    "        except Exception:\n",
    "            st.write(\"Not available.\")"
   ]
  }
 ],
 "metadata": {
  "kernelspec": {
   "display_name": "Python [conda env:base] *",
   "language": "python",
   "name": "conda-base-py"
  },
  "language_info": {
   "codemirror_mode": {
    "name": "ipython",
    "version": 3
   },
   "file_extension": ".py",
   "mimetype": "text/x-python",
   "name": "python",
   "nbconvert_exporter": "python",
   "pygments_lexer": "ipython3",
   "version": "3.12.7"
  }
 },
 "nbformat": 4,
 "nbformat_minor": 5
}
